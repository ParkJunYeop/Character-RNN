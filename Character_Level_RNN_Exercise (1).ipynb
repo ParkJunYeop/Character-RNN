{
 "cells": [
  {
   "cell_type": "markdown",
   "metadata": {},
   "source": [
    "# Character-Level LSTM in PyTorch\n",
    "\n",
    "In this notebook, I'll construct a character-level LSTM with PyTorch. The network will train character by character on some text, then generate new text character by character. As an example, I will train on Anna Karenina. **This model will be able to generate new text based on the text from the book!**\n",
    "\n",
    "This network is based off of Andrej Karpathy's [post on RNNs](http://karpathy.github.io/2015/05/21/rnn-effectiveness/) and [implementation in Torch](https://github.com/karpathy/char-rnn). Below is the general architecture of the character-wise RNN.\n",
    "\n",
    "<img src=\"assets/charseq.jpeg\" width=\"500\">"
   ]
  },
  {
   "cell_type": "markdown",
   "metadata": {},
   "source": [
    "First let's load in our required resources for data loading and model creation."
   ]
  },
  {
   "cell_type": "code",
   "execution_count": 1,
   "metadata": {},
   "outputs": [],
   "source": [
    "import numpy as np\n",
    "import torch\n",
    "from torch import nn\n",
    "import torch.nn.functional as F"
   ]
  },
  {
   "cell_type": "code",
   "execution_count": 2,
   "metadata": {},
   "outputs": [
    {
     "data": {
      "text/plain": [
       "[1, 2, 3, 4]"
      ]
     },
     "execution_count": 2,
     "metadata": {},
     "output_type": "execute_result"
    }
   ],
   "source": [
    "k = [1,2,3,4]\n",
    "\n",
    "a = np.array(k)\n",
    "\n",
    "k"
   ]
  },
  {
   "cell_type": "markdown",
   "metadata": {},
   "source": [
    "Let's check out the first 100 characters, make sure everything is peachy. According to the [American Book Review](http://americanbookreview.org/100bestlines.asp), this is the 6th best first line of a book ever."
   ]
  },
  {
   "cell_type": "code",
   "execution_count": 2,
   "metadata": {},
   "outputs": [
    {
     "ename": "SyntaxError",
     "evalue": "invalid syntax (<ipython-input-2-4337db862061>, line 6)",
     "output_type": "error",
     "traceback": [
      "\u001b[0;36m  File \u001b[0;32m\"<ipython-input-2-4337db862061>\"\u001b[0;36m, line \u001b[0;32m6\u001b[0m\n\u001b[0;31m    %% hide output\u001b[0m\n\u001b[0m    ^\u001b[0m\n\u001b[0;31mSyntaxError\u001b[0m\u001b[0;31m:\u001b[0m invalid syntax\n"
     ]
    }
   ],
   "source": [
    "# open text file and read in data as `text`\n",
    "with open('data/anna.txt', 'r') as f:\n",
    "    text = f.read()\n",
    "    print(text)\n",
    "    \n",
    "%% hide output\n"
   ]
  },
  {
   "cell_type": "markdown",
   "metadata": {},
   "source": [
    "## Load in Data\n",
    "\n",
    "Then, we'll load the Anna Karenina text file and convert it into integers for our network to use. "
   ]
  },
  {
   "cell_type": "code",
   "execution_count": 4,
   "metadata": {},
   "outputs": [
    {
     "data": {
      "text/plain": [
       "'Chapter 1\\n\\n\\nHappy families are all alike; every unhappy family is unhappy in its own\\nway.\\n\\nEverythin'"
      ]
     },
     "execution_count": 4,
     "metadata": {},
     "output_type": "execute_result"
    }
   ],
   "source": [
    "text[:100]"
   ]
  },
  {
   "cell_type": "markdown",
   "metadata": {},
   "source": [
    "### Tokenization\n",
    "\n",
    "In the cells, below, I'm creating a couple **dictionaries** to convert the characters to and from integers. Encoding the characters as integers makes it easier to use as input in the network."
   ]
  },
  {
   "cell_type": "code",
   "execution_count": 5,
   "metadata": {},
   "outputs": [
    {
     "name": "stdout",
     "output_type": "stream",
     "text": [
      "[25 13 61 ..., 79 54 68]\n"
     ]
    }
   ],
   "source": [
    "# encode the text and map each character to an integer and vice versa\n",
    "\n",
    "# we create two dictionaries:\n",
    "# 1. int2char, which maps integers to characters\n",
    "# 2. char2int, which maps characters to unique integers\n",
    "chars = tuple(set(text))\n",
    "int2char = dict(enumerate(chars))\n",
    "char2int = {ch: ii for ii, ch in int2char.items()}\n",
    "\n",
    "# encode the text\n",
    "encoded = np.array([char2int[ch] for ch in text])\n",
    "\n",
    "# print(chars)\n",
    "# print(int2char)\n",
    "# print(char2int)\n",
    "print(encoded)"
   ]
  },
  {
   "cell_type": "markdown",
   "metadata": {},
   "source": [
    "And we can see those same characters from above, encoded as integers."
   ]
  },
  {
   "cell_type": "code",
   "execution_count": 6,
   "metadata": {},
   "outputs": [
    {
     "data": {
      "text/plain": [
       "array([25, 13, 61, 58, 27, 50,  1,  9,  0, 68, 68, 68, 77, 61, 58, 58, 46,\n",
       "        9, 82, 61, 12, 64, 78, 64, 50, 79,  9, 61,  1, 50,  9, 61, 78, 78,\n",
       "        9, 61, 78, 64, 14, 50, 73,  9, 50, 41, 50,  1, 46,  9, 65, 24, 13,\n",
       "       61, 58, 58, 46,  9, 82, 61, 12, 64, 78, 46,  9, 64, 79,  9, 65, 24,\n",
       "       13, 61, 58, 58, 46,  9, 64, 24,  9, 64, 27, 79,  9, 80, 42, 24, 68,\n",
       "       42, 61, 46, 54, 68, 68, 66, 41, 50,  1, 46, 27, 13, 64, 24])"
      ]
     },
     "execution_count": 6,
     "metadata": {},
     "output_type": "execute_result"
    }
   ],
   "source": [
    "encoded[:100]"
   ]
  },
  {
   "cell_type": "markdown",
   "metadata": {},
   "source": [
    "## Pre-processing the data\n",
    "\n",
    "As you can see in our char-RNN image above, our LSTM expects an input that is **one-hot encoded** meaning that each character is converted into an integer (via our created dictionary) and *then* converted into a column vector where only it's corresponding integer index will have the value of 1 and the rest of the vector will be filled with 0's. Since we're one-hot encoding the data, let's make a function to do that!\n"
   ]
  },
  {
   "cell_type": "code",
   "execution_count": 7,
   "metadata": {},
   "outputs": [],
   "source": [
    "def one_hot_encode(arr, n_labels):\n",
    "    \n",
    "    # Initialize the the encoded array\n",
    "    one_hot = np.zeros((np.multiply(*arr.shape), n_labels), dtype=np.float32)\n",
    "    \n",
    "    # Fill the appropriate elements with ones\n",
    "    one_hot[np.arange(one_hot.shape[0]), arr.flatten()] = 1.\n",
    "    \n",
    "    # Finally reshape it to get back to the original array\n",
    "    one_hot = one_hot.reshape((*arr.shape, n_labels))\n",
    "    \n",
    "    return one_hot"
   ]
  },
  {
   "cell_type": "code",
   "execution_count": 8,
   "metadata": {},
   "outputs": [
    {
     "name": "stdout",
     "output_type": "stream",
     "text": [
      "[[[ 0.  0.  0.  1.  0.  0.  0.  0.]\n",
      "  [ 0.  0.  0.  0.  0.  1.  0.  0.]\n",
      "  [ 0.  1.  0.  0.  0.  0.  0.  0.]]]\n"
     ]
    }
   ],
   "source": [
    "# check that the function works as expected\n",
    "test_seq = np.array([[3, 5, 1]])\n",
    "one_hot = one_hot_encode(test_seq, 8)\n",
    "\n",
    "print(one_hot)"
   ]
  },
  {
   "cell_type": "markdown",
   "metadata": {},
   "source": [
    "## Making training mini-batches\n",
    "\n",
    "\n",
    "To train on this data, we also want to create mini-batches for training. Remember that we want our batches to be multiple sequences of some desired number of sequence steps. Considering a simple example, our batches would look like this:\n",
    "\n",
    "<img src=\"assets/sequence_batching@1x.png\" width=500px>\n",
    "\n",
    "\n",
    "<br>\n",
    "\n",
    "In this example, we'll take the encoded characters (passed in as the `arr` parameter) and split them into multiple sequences, given by `batch_size`. Each of our sequences will be `seq_length` long.\n",
    "\n",
    "### Creating Batches\n",
    "\n",
    "**1. The first thing we need to do is discard some of the text so we only have completely full mini-batches. **\n",
    "\n",
    "Each batch contains $N \\times M$ characters, where $N$ is the batch size (the number of sequences in a batch) and $M$ is the seq_length or number of time steps in a sequence. Then, to get the total number of batches, $K$, that we can make from the array `arr`, you divide the length of `arr` by the number of characters per batch. Once you know the number of batches, you can get the total number of characters to keep from `arr`, $N * M * K$.\n",
    "\n",
    "**2. After that, we need to split `arr` into $N$ batches. ** \n",
    "\n",
    "You can do this using `arr.reshape(size)` where `size` is a tuple containing the dimensions sizes of the reshaped array. We know we want $N$ sequences in a batch, so let's make that the size of the first dimension. For the second dimension, you can use `-1` as a placeholder in the size, it'll fill up the array with the appropriate data for you. After this, you should have an array that is $N \\times (M * K)$.\n",
    "\n",
    "**3. Now that we have this array, we can iterate through it to get our mini-batches. **\n",
    "\n",
    "The idea is each batch is a $N \\times M$ window on the $N \\times (M * K)$ array. For each subsequent batch, the window moves over by `seq_length`. We also want to create both the input and target arrays. Remember that the targets are just the inputs shifted over by one character. The way I like to do this window is use `range` to take steps of size `n_steps` from $0$ to `arr.shape[1]`, the total number of tokens in each sequence. That way, the integers you get from `range` always point to the start of a batch, and each window is `seq_length` wide.\n",
    "\n",
    "> **TODO:** Write the code for creating batches in the function below. The exercises in this notebook _will not be easy_. I've provided a notebook with solutions alongside this notebook. If you get stuck, checkout the solutions. The most important thing is that you don't copy and paste the code into here, **type out the solution code yourself.**"
   ]
  },
  {
   "cell_type": "code",
   "execution_count": 9,
   "metadata": {},
   "outputs": [],
   "source": [
    "def get_batches(arr, batch_size, seq_length):\n",
    "    '''Create a generator that returns batches of size\n",
    "       batch_size x seq_length from arr.\n",
    "       \n",
    "       Arguments\n",
    "       ---------\n",
    "       arr: Array you want to make batches from\n",
    "       batch_size: Batch size, the number of sequences per batch\n",
    "       seq_length: Number of encoded chars in a sequence\n",
    "    '''\n",
    "    batch_size_total = batch_size * seq_length\n",
    "    ## TODO: Get the number of batches we can make\n",
    "    n_batches = len(arr)//batch_size_total\n",
    "    \n",
    "    ## TODO: Keep only enough characters to make full batches\n",
    "    arr = arr[:n_batches * batch_size_total]\n",
    "    \n",
    "    ## TODO: Reshape into batch_size rows\n",
    "    arr = arr.reshape((batch_size, -1))\n",
    "    \n",
    "    ## TODO: Iterate over the batches using a window of size seq_length\n",
    "    for n in range(0, arr.shape[1], seq_length):\n",
    "        # The features\n",
    "        x = arr[:, n:n+seq_length]\n",
    "        # The targets, shifted by one\n",
    "        y = np.zeros_like(x)\n",
    "        try:\n",
    "            y[:, :-1], y[:,-1] = x[:, 1:], arr[:, n+seq_length]\n",
    "        except IndexError:\n",
    "            y[:, :-1], y[:,-1] = x[:, 1:], arr[:,0]\n",
    "        yield x, y"
   ]
  },
  {
   "cell_type": "markdown",
   "metadata": {},
   "source": [
    "### Test Your Implementation\n",
    "\n",
    "Now I'll make some data sets and we can check out what's going on as we batch data. Here, as an example, I'm going to use a batch size of 8 and 50 sequence steps."
   ]
  },
  {
   "cell_type": "code",
   "execution_count": 10,
   "metadata": {},
   "outputs": [],
   "source": [
    "batches = get_batches(encoded, 8, 50)\n",
    "x, y = next(batches)"
   ]
  },
  {
   "cell_type": "code",
   "execution_count": 11,
   "metadata": {},
   "outputs": [
    {
     "name": "stdout",
     "output_type": "stream",
     "text": [
      "x\n",
      " [[25 13 61 58 27 50  1  9  0 68]\n",
      " [79 80 24  9 27 13 61 27  9 61]\n",
      " [50 24 43  9 80  1  9 61  9 82]\n",
      " [79  9 27 13 50  9 22 13 64 50]\n",
      " [ 9 79 61 42  9 13 50  1  9 27]\n",
      " [22 65 79 79 64 80 24  9 61 24]\n",
      " [ 9 23 24 24 61  9 13 61 43  9]\n",
      " [28 45 78 80 24 79 14 46 54  9]]\n",
      "\n",
      "y\n",
      " [[13 61 58 27 50  1  9  0 68 68]\n",
      " [80 24  9 27 13 61 27  9 61 27]\n",
      " [24 43  9 80  1  9 61  9 82 80]\n",
      " [ 9 27 13 50  9 22 13 64 50 82]\n",
      " [79 61 42  9 13 50  1  9 27 50]\n",
      " [65 79 79 64 80 24  9 61 24 43]\n",
      " [23 24 24 61  9 13 61 43  9 79]\n",
      " [45 78 80 24 79 14 46 54  9 26]]\n"
     ]
    }
   ],
   "source": [
    "# printing out the first 10 items in a sequence\n",
    "print('x\\n', x[:10, :10])\n",
    "print('\\ny\\n', y[:10, :10])"
   ]
  },
  {
   "cell_type": "markdown",
   "metadata": {},
   "source": [
    "If you implemented `get_batches` correctly, the above output should look something like \n",
    "```\n",
    "x\n",
    " [[25  8 60 11 45 27 28 73  1  2]\n",
    " [17  7 20 73 45  8 60 45 73 60]\n",
    " [27 20 80 73  7 28 73 60 73 65]\n",
    " [17 73 45  8 27 73 66  8 46 27]\n",
    " [73 17 60 12 73  8 27 28 73 45]\n",
    " [66 64 17 17 46  7 20 73 60 20]\n",
    " [73 76 20 20 60 73  8 60 80 73]\n",
    " [47 35 43  7 20 17 24 50 37 73]]\n",
    "\n",
    "y\n",
    " [[ 8 60 11 45 27 28 73  1  2  2]\n",
    " [ 7 20 73 45  8 60 45 73 60 45]\n",
    " [20 80 73  7 28 73 60 73 65  7]\n",
    " [73 45  8 27 73 66  8 46 27 65]\n",
    " [17 60 12 73  8 27 28 73 45 27]\n",
    " [64 17 17 46  7 20 73 60 20 80]\n",
    " [76 20 20 60 73  8 60 80 73 17]\n",
    " [35 43  7 20 17 24 50 37 73 36]]\n",
    " ```\n",
    " although the exact numbers may be different. Check to make sure the data is shifted over one step for `y`."
   ]
  },
  {
   "cell_type": "markdown",
   "metadata": {},
   "source": [
    "---\n",
    "## Defining the network with PyTorch\n",
    "\n",
    "Below is where you'll define the network.\n",
    "\n",
    "<img src=\"assets/charRNN.png\" width=500px>\n",
    "\n",
    "Next, you'll use PyTorch to define the architecture of the network. We start by defining the layers and operations we want. Then, define a method for the forward pass. You've also been given a method for predicting characters."
   ]
  },
  {
   "cell_type": "markdown",
   "metadata": {},
   "source": [
    "### Model Structure\n",
    "\n",
    "In `__init__` the suggested structure is as follows:\n",
    "* Create and store the necessary dictionaries (this has been done for you)\n",
    "* Define an LSTM layer that takes as params: an input size (the number of characters), a hidden layer size `n_hidden`, a number of layers `n_layers`, a dropout probability `drop_prob`, and a batch_first boolean (True, since we are batching)\n",
    "* Define a dropout layer with `dropout_prob`\n",
    "* Define a fully-connected layer with params: input size `n_hidden` and output size (the number of characters)\n",
    "* Finally, initialize the weights (again, this has been given)\n",
    "\n",
    "Note that some parameters have been named and given in the `__init__` function, and we use them and store them by doing something like `self.drop_prob = drop_prob`."
   ]
  },
  {
   "cell_type": "markdown",
   "metadata": {},
   "source": [
    "---\n",
    "### LSTM Inputs/Outputs\n",
    "\n",
    "You can create a basic [LSTM layer](https://pytorch.org/docs/stable/nn.html#lstm) as follows\n",
    "\n",
    "```python\n",
    "self.lstm = nn.LSTM(input_size, n_hidden, n_layers, \n",
    "                            dropout=drop_prob, batch_first=True)\n",
    "```\n",
    "\n",
    "where `input_size` is the number of characters this cell expects to see as sequential input, and `n_hidden` is the number of units in the hidden layers in the cell. And we can add dropout by adding a dropout parameter with a specified probability; this will automatically add dropout to the inputs or outputs. Finally, in the `forward` function, we can stack up the LSTM cells into layers using `.view`. With this, you pass in a list of cells and it will send the output of one cell into the next cell.\n",
    "\n",
    "We also need to create an initial hidden state of all zeros. This is done like so\n",
    "\n",
    "```python\n",
    "self.init_hidden()\n",
    "```"
   ]
  },
  {
   "cell_type": "code",
   "execution_count": 12,
   "metadata": {},
   "outputs": [
    {
     "name": "stdout",
     "output_type": "stream",
     "text": [
      "Training on GPU!\n"
     ]
    }
   ],
   "source": [
    "# check if GPU is available\n",
    "train_on_gpu = torch.cuda.is_available()\n",
    "if(train_on_gpu):\n",
    "    print('Training on GPU!')\n",
    "else: \n",
    "    print('No GPU available, training on CPU; consider making n_epochs very small.')"
   ]
  },
  {
   "cell_type": "code",
   "execution_count": 13,
   "metadata": {},
   "outputs": [],
   "source": [
    "class CharRNN(nn.Module):\n",
    "    \n",
    "    def __init__(self, tokens, n_hidden=256, n_layers=2,\n",
    "                               drop_prob=0.5, lr=0.001):\n",
    "        super().__init__()\n",
    "        self.drop_prob = drop_prob\n",
    "        self.n_layers = n_layers\n",
    "        self.n_hidden = n_hidden\n",
    "        self.lr = lr\n",
    "        \n",
    "        # creating character dictionaries\n",
    "        self.chars = tokens\n",
    "        self.int2char = dict(enumerate(self.chars))\n",
    "        self.char2int = {ch: ii for ii, ch in self.int2char.items()}\n",
    "        \n",
    "        \n",
    "        ## TODO: define the layers of the model (LSTM)\n",
    "        \n",
    "        self.lstm = nn.LSTM(len(self.chars), n_hidden, n_layers, dropout = drop_prob, batch_first=True)\n",
    "        \n",
    "        \n",
    "        ## TODO: define the layers of the model (dropout)\n",
    "        \n",
    "        self.dropout = nn.Dropout(drop_prob)\n",
    "        \n",
    "        \n",
    "        ## TODO: define the layers of the model (final, fc output layer)\n",
    "        \n",
    "        self.fc = nn.Linear(n_hidden, len(self.chars))\n",
    "      \n",
    "    \n",
    "    def forward(self, x, hidden):\n",
    "        ''' Forward pass through the network. \n",
    "            These inputs are x, and the hidden/cell state `hidden`. '''\n",
    "                \n",
    "        ## TODO: Get the outputs and the new hidden state from the lstm\n",
    "        \n",
    "        r_output, hidden = self.lstm(x, hidden)  # lstm output and new hidden state\n",
    "        \n",
    "        out = self.dropout(r_output)  # pass through dropout layer to get a new output layer\n",
    "        \n",
    "        out = out.reshape(-1, self.n_hidden) # making sure to reshape this output, so that the last output is our hidden dim\n",
    "                                          # -1 basically means I'm going to be stacking up the outputs of the LSTM\n",
    "        \n",
    "        \n",
    "        \n",
    "        \n",
    "        # How the tensor is stored in memory\n",
    "        \n",
    "        out = self.fc(out) \n",
    "        \n",
    "        \n",
    "        \n",
    "        # return the final output and the hidden state\n",
    "        return out, hidden\n",
    "    \n",
    "    \n",
    "    def init_hidden(self, batch_size):\n",
    "        ''' Initializes hidden state '''\n",
    "        # Create two new tensors with sizes n_layers x batch_size x n_hidden,\n",
    "        # initialized to zero, for hidden state and cell state of LSTM\n",
    "        weight = next(self.parameters()).data\n",
    "        \n",
    "        if (train_on_gpu):\n",
    "            hidden = (weight.new(self.n_layers, batch_size, self.n_hidden).zero_().cuda(),\n",
    "                  weight.new(self.n_layers, batch_size, self.n_hidden).zero_().cuda())\n",
    "        else:\n",
    "            hidden = (weight.new(self.n_layers, batch_size, self.n_hidden).zero_(),\n",
    "                      weight.new(self.n_layers, batch_size, self.n_hidden).zero_())\n",
    "        \n",
    "        return hidden\n",
    "        "
   ]
  },
  {
   "cell_type": "markdown",
   "metadata": {},
   "source": [
    "## Time to train\n",
    "\n",
    "The train function gives us the ability to set the number of epochs, the learning rate, and other parameters.\n",
    "\n",
    "Below we're using an Adam optimizer and cross entropy loss since we are looking at character class scores as output. We calculate the loss and perform backpropagation, as usual!\n",
    "\n",
    "A couple of details about training: \n",
    ">* Within the batch loop, we detach the hidden state from its history; this time setting it equal to a new *tuple* variable because an LSTM has a hidden state that is a tuple of the hidden and cell states.\n",
    "* We use [`clip_grad_norm_`](https://pytorch.org/docs/stable/_modules/torch/nn/utils/clip_grad.html) to help prevent exploding gradients."
   ]
  },
  {
   "cell_type": "code",
   "execution_count": 14,
   "metadata": {},
   "outputs": [],
   "source": [
    "def train(net, data, epochs=10, batch_size=10, seq_length=50, lr=0.001, clip=5, val_frac=0.1, print_every=10):\n",
    "    ''' Training a network \n",
    "    \n",
    "        Arguments\n",
    "        ---------\n",
    "        \n",
    "        net: CharRNN network\n",
    "        data: text data to train the network\n",
    "        epochs: Number of epochs to train\n",
    "        batch_size: Number of mini-sequences per mini-batch, aka batch size\n",
    "        seq_length: Number of character steps per mini-batch\n",
    "        lr: learning rate\n",
    "        clip: gradient clipping\n",
    "        val_frac: Fraction of data to hold out for validation\n",
    "        print_every: Number of steps for printing training and validation loss\n",
    "    \n",
    "    '''\n",
    "    net.train()\n",
    "    \n",
    "    opt = torch.optim.Adam(net.parameters(), lr=lr)\n",
    "    criterion = nn.CrossEntropyLoss()\n",
    "    \n",
    "    # create training and validation data\n",
    "    val_idx = int(len(data)*(1-val_frac))\n",
    "    data, val_data = data[:val_idx], data[val_idx:]\n",
    "    \n",
    "    if(train_on_gpu):\n",
    "        net.cuda()\n",
    "    \n",
    "    counter = 0\n",
    "    n_chars = len(net.chars)\n",
    "    for e in range(epochs):\n",
    "        # initialize hidden state\n",
    "        h = net.init_hidden(batch_size)\n",
    "        \n",
    "        for x, y in get_batches(data, batch_size, seq_length):\n",
    "            counter += 1\n",
    "            \n",
    "            # One-hot encode our data and make them Torch tensors\n",
    "            x = one_hot_encode(x, n_chars)\n",
    "            inputs, targets = torch.from_numpy(x), torch.from_numpy(y)\n",
    "            \n",
    "            if(train_on_gpu):\n",
    "                inputs, targets = inputs.cuda(), targets.cuda()\n",
    "\n",
    "            # Creating new variables for the hidden state, otherwise\n",
    "            # we'd backprop through the entire training history\n",
    "            h = tuple([each.data for each in h])\n",
    "\n",
    "            # zero accumulated gradients\n",
    "            net.zero_grad()\n",
    "            \n",
    "            # get the output from the model\n",
    "            output, h = net(inputs, h)\n",
    "            \n",
    "            # calculate the loss and perform backprop\n",
    "            loss = criterion(output, targets.view(batch_size*seq_length))\n",
    "            loss.backward()\n",
    "            # `clip_grad_norm` helps prevent the exploding gradient problem in RNNs / LSTMs.\n",
    "            nn.utils.clip_grad_norm_(net.parameters(), clip)  #clipping the gradients set some clip threshold then if the gradient is larger\n",
    "                                                              #than that threshold, we set it to that clip threshold\n",
    "            opt.step()\n",
    "            \n",
    "            # loss stats\n",
    "            if counter % print_every == 0:\n",
    "                # Get validation loss\n",
    "                val_h = net.init_hidden(batch_size)\n",
    "                val_losses = []\n",
    "                net.eval()\n",
    "                for x, y in get_batches(val_data, batch_size, seq_length):\n",
    "                    # One-hot encode our data and make them Torch tensors\n",
    "                    x = one_hot_encode(x, n_chars)\n",
    "                    x, y = torch.from_numpy(x), torch.from_numpy(y)\n",
    "                    \n",
    "                    # Creating new variables for the hidden state, otherwise\n",
    "                    # we'd backprop through the entire training history\n",
    "                    val_h = tuple([each.data for each in val_h])\n",
    "                    \n",
    "                    inputs, targets = x, y\n",
    "                    if(train_on_gpu):\n",
    "                        inputs, targets = inputs.cuda(), targets.cuda()\n",
    "\n",
    "                    output, val_h = net(inputs, val_h)\n",
    "                    val_loss = criterion(output, targets.view(batch_size*seq_length))\n",
    "                \n",
    "                    val_losses.append(val_loss.item())\n",
    "                \n",
    "                net.train() # reset to train mode after iterationg through validation data\n",
    "                \n",
    "                print(\"Epoch: {}/{}...\".format(e+1, epochs),\n",
    "                      \"Step: {}...\".format(counter),\n",
    "                      \"Loss: {:.4f}...\".format(loss.item()),\n",
    "                      \"Val Loss: {:.4f}\".format(np.mean(val_losses)))"
   ]
  },
  {
   "cell_type": "markdown",
   "metadata": {},
   "source": [
    "## Instantiating the model\n",
    "\n",
    "Now we can actually train the network. First we'll create the network itself, with some given hyperparameters. Then, define the mini-batches sizes, and start training!"
   ]
  },
  {
   "cell_type": "code",
   "execution_count": 15,
   "metadata": {},
   "outputs": [
    {
     "name": "stdout",
     "output_type": "stream",
     "text": [
      "CharRNN(\n",
      "  (lstm): LSTM(83, 512, num_layers=2, batch_first=True, dropout=0.5)\n",
      "  (dropout): Dropout(p=0.5)\n",
      "  (fc): Linear(in_features=512, out_features=83, bias=True)\n",
      ")\n"
     ]
    }
   ],
   "source": [
    "## TODO: set you model hyperparameters\n",
    "# define and print the net\n",
    "n_hidden=512\n",
    "n_layers=2\n",
    "\n",
    "net = CharRNN(chars, n_hidden, n_layers)\n",
    "print(net)"
   ]
  },
  {
   "cell_type": "markdown",
   "metadata": {},
   "source": [
    "### Set your training hyperparameters!"
   ]
  },
  {
   "cell_type": "code",
   "execution_count": 16,
   "metadata": {
    "scrolled": true
   },
   "outputs": [
    {
     "name": "stdout",
     "output_type": "stream",
     "text": [
      "Epoch: 1/20... Step: 10... Loss: 3.2617... Val Loss: 3.2163\n",
      "Epoch: 1/20... Step: 20... Loss: 3.1462... Val Loss: 3.1391\n",
      "Epoch: 1/20... Step: 30... Loss: 3.1396... Val Loss: 3.1255\n",
      "Epoch: 1/20... Step: 40... Loss: 3.1093... Val Loss: 3.1191\n",
      "Epoch: 1/20... Step: 50... Loss: 3.1437... Val Loss: 3.1169\n",
      "Epoch: 1/20... Step: 60... Loss: 3.1164... Val Loss: 3.1142\n",
      "Epoch: 1/20... Step: 70... Loss: 3.1036... Val Loss: 3.1112\n",
      "Epoch: 1/20... Step: 80... Loss: 3.1160... Val Loss: 3.1031\n",
      "Epoch: 1/20... Step: 90... Loss: 3.1028... Val Loss: 3.0836\n",
      "Epoch: 1/20... Step: 100... Loss: 3.0533... Val Loss: 3.0390\n",
      "Epoch: 1/20... Step: 110... Loss: 2.9790... Val Loss: 2.9482\n",
      "Epoch: 1/20... Step: 120... Loss: 2.9092... Val Loss: 2.8918\n",
      "Epoch: 1/20... Step: 130... Loss: 2.7900... Val Loss: 2.7444\n",
      "Epoch: 2/20... Step: 140... Loss: 2.7178... Val Loss: 2.6548\n",
      "Epoch: 2/20... Step: 150... Loss: 2.6298... Val Loss: 2.5813\n",
      "Epoch: 2/20... Step: 160... Loss: 2.5611... Val Loss: 2.5224\n",
      "Epoch: 2/20... Step: 170... Loss: 2.4951... Val Loss: 2.4782\n",
      "Epoch: 2/20... Step: 180... Loss: 2.4698... Val Loss: 2.4410\n",
      "Epoch: 2/20... Step: 190... Loss: 2.4208... Val Loss: 2.4109\n",
      "Epoch: 2/20... Step: 200... Loss: 2.4180... Val Loss: 2.3822\n",
      "Epoch: 2/20... Step: 210... Loss: 2.3770... Val Loss: 2.3548\n",
      "Epoch: 2/20... Step: 220... Loss: 2.3500... Val Loss: 2.3279\n",
      "Epoch: 2/20... Step: 230... Loss: 2.3350... Val Loss: 2.3014\n",
      "Epoch: 2/20... Step: 240... Loss: 2.3162... Val Loss: 2.2846\n",
      "Epoch: 2/20... Step: 250... Loss: 2.2521... Val Loss: 2.2494\n",
      "Epoch: 2/20... Step: 260... Loss: 2.2183... Val Loss: 2.2243\n",
      "Epoch: 2/20... Step: 270... Loss: 2.2220... Val Loss: 2.1972\n",
      "Epoch: 3/20... Step: 280... Loss: 2.2239... Val Loss: 2.1736\n",
      "Epoch: 3/20... Step: 290... Loss: 2.1893... Val Loss: 2.1466\n",
      "Epoch: 3/20... Step: 300... Loss: 2.1546... Val Loss: 2.1219\n",
      "Epoch: 3/20... Step: 310... Loss: 2.1396... Val Loss: 2.1098\n",
      "Epoch: 3/20... Step: 320... Loss: 2.1080... Val Loss: 2.0857\n",
      "Epoch: 3/20... Step: 330... Loss: 2.0688... Val Loss: 2.0707\n",
      "Epoch: 3/20... Step: 340... Loss: 2.0875... Val Loss: 2.0447\n",
      "Epoch: 3/20... Step: 350... Loss: 2.0616... Val Loss: 2.0283\n",
      "Epoch: 3/20... Step: 360... Loss: 1.9940... Val Loss: 2.0098\n",
      "Epoch: 3/20... Step: 370... Loss: 2.0345... Val Loss: 1.9928\n",
      "Epoch: 3/20... Step: 380... Loss: 2.0068... Val Loss: 1.9766\n",
      "Epoch: 3/20... Step: 390... Loss: 1.9714... Val Loss: 1.9600\n",
      "Epoch: 3/20... Step: 400... Loss: 1.9489... Val Loss: 1.9432\n",
      "Epoch: 3/20... Step: 410... Loss: 1.9588... Val Loss: 1.9288\n",
      "Epoch: 4/20... Step: 420... Loss: 1.9402... Val Loss: 1.9142\n",
      "Epoch: 4/20... Step: 430... Loss: 1.9403... Val Loss: 1.8998\n",
      "Epoch: 4/20... Step: 440... Loss: 1.9207... Val Loss: 1.8920\n",
      "Epoch: 4/20... Step: 450... Loss: 1.8633... Val Loss: 1.8713\n",
      "Epoch: 4/20... Step: 460... Loss: 1.8461... Val Loss: 1.8614\n",
      "Epoch: 4/20... Step: 470... Loss: 1.8758... Val Loss: 1.8520\n",
      "Epoch: 4/20... Step: 480... Loss: 1.8599... Val Loss: 1.8361\n",
      "Epoch: 4/20... Step: 490... Loss: 1.8653... Val Loss: 1.8240\n",
      "Epoch: 4/20... Step: 500... Loss: 1.8543... Val Loss: 1.8154\n",
      "Epoch: 4/20... Step: 510... Loss: 1.8384... Val Loss: 1.7995\n",
      "Epoch: 4/20... Step: 520... Loss: 1.8467... Val Loss: 1.7955\n",
      "Epoch: 4/20... Step: 530... Loss: 1.8095... Val Loss: 1.7802\n",
      "Epoch: 4/20... Step: 540... Loss: 1.7673... Val Loss: 1.7704\n",
      "Epoch: 4/20... Step: 550... Loss: 1.8132... Val Loss: 1.7555\n",
      "Epoch: 5/20... Step: 560... Loss: 1.7743... Val Loss: 1.7470\n",
      "Epoch: 5/20... Step: 570... Loss: 1.7559... Val Loss: 1.7402\n",
      "Epoch: 5/20... Step: 580... Loss: 1.7427... Val Loss: 1.7292\n",
      "Epoch: 5/20... Step: 590... Loss: 1.7386... Val Loss: 1.7175\n",
      "Epoch: 5/20... Step: 600... Loss: 1.7219... Val Loss: 1.7138\n",
      "Epoch: 5/20... Step: 610... Loss: 1.7101... Val Loss: 1.7050\n",
      "Epoch: 5/20... Step: 620... Loss: 1.7143... Val Loss: 1.6958\n",
      "Epoch: 5/20... Step: 630... Loss: 1.7344... Val Loss: 1.6861\n",
      "Epoch: 5/20... Step: 640... Loss: 1.6995... Val Loss: 1.6813\n",
      "Epoch: 5/20... Step: 650... Loss: 1.6822... Val Loss: 1.6732\n",
      "Epoch: 5/20... Step: 660... Loss: 1.6668... Val Loss: 1.6700\n",
      "Epoch: 5/20... Step: 670... Loss: 1.6909... Val Loss: 1.6655\n",
      "Epoch: 5/20... Step: 680... Loss: 1.6819... Val Loss: 1.6528\n",
      "Epoch: 5/20... Step: 690... Loss: 1.6588... Val Loss: 1.6494\n",
      "Epoch: 6/20... Step: 700... Loss: 1.6622... Val Loss: 1.6366\n",
      "Epoch: 6/20... Step: 710... Loss: 1.6501... Val Loss: 1.6361\n",
      "Epoch: 6/20... Step: 720... Loss: 1.6370... Val Loss: 1.6272\n",
      "Epoch: 6/20... Step: 730... Loss: 1.6597... Val Loss: 1.6201\n",
      "Epoch: 6/20... Step: 740... Loss: 1.6170... Val Loss: 1.6175\n",
      "Epoch: 6/20... Step: 750... Loss: 1.6045... Val Loss: 1.6112\n",
      "Epoch: 6/20... Step: 760... Loss: 1.6338... Val Loss: 1.6075\n",
      "Epoch: 6/20... Step: 770... Loss: 1.6116... Val Loss: 1.6023\n",
      "Epoch: 6/20... Step: 780... Loss: 1.6002... Val Loss: 1.5965\n",
      "Epoch: 6/20... Step: 790... Loss: 1.5887... Val Loss: 1.5917\n",
      "Epoch: 6/20... Step: 800... Loss: 1.6137... Val Loss: 1.5864\n",
      "Epoch: 6/20... Step: 810... Loss: 1.5882... Val Loss: 1.5820\n",
      "Epoch: 6/20... Step: 820... Loss: 1.5587... Val Loss: 1.5813\n",
      "Epoch: 6/20... Step: 830... Loss: 1.6033... Val Loss: 1.5728\n",
      "Epoch: 7/20... Step: 840... Loss: 1.5637... Val Loss: 1.5629\n",
      "Epoch: 7/20... Step: 850... Loss: 1.5723... Val Loss: 1.5651\n",
      "Epoch: 7/20... Step: 860... Loss: 1.5528... Val Loss: 1.5591\n",
      "Epoch: 7/20... Step: 870... Loss: 1.5735... Val Loss: 1.5520\n",
      "Epoch: 7/20... Step: 880... Loss: 1.5566... Val Loss: 1.5471\n",
      "Epoch: 7/20... Step: 890... Loss: 1.5616... Val Loss: 1.5435\n",
      "Epoch: 7/20... Step: 900... Loss: 1.5458... Val Loss: 1.5431\n",
      "Epoch: 7/20... Step: 910... Loss: 1.5167... Val Loss: 1.5395\n",
      "Epoch: 7/20... Step: 920... Loss: 1.5445... Val Loss: 1.5368\n",
      "Epoch: 7/20... Step: 930... Loss: 1.5335... Val Loss: 1.5322\n",
      "Epoch: 7/20... Step: 940... Loss: 1.5371... Val Loss: 1.5262\n",
      "Epoch: 7/20... Step: 950... Loss: 1.5411... Val Loss: 1.5224\n",
      "Epoch: 7/20... Step: 960... Loss: 1.5378... Val Loss: 1.5200\n",
      "Epoch: 7/20... Step: 970... Loss: 1.5418... Val Loss: 1.5159\n",
      "Epoch: 8/20... Step: 980... Loss: 1.5099... Val Loss: 1.5118\n",
      "Epoch: 8/20... Step: 990... Loss: 1.5192... Val Loss: 1.5096\n",
      "Epoch: 8/20... Step: 1000... Loss: 1.5126... Val Loss: 1.5031\n",
      "Epoch: 8/20... Step: 1010... Loss: 1.5450... Val Loss: 1.4984\n",
      "Epoch: 8/20... Step: 1020... Loss: 1.5113... Val Loss: 1.4964\n",
      "Epoch: 8/20... Step: 1030... Loss: 1.4971... Val Loss: 1.4955\n",
      "Epoch: 8/20... Step: 1040... Loss: 1.5030... Val Loss: 1.4964\n",
      "Epoch: 8/20... Step: 1050... Loss: 1.4828... Val Loss: 1.4903\n",
      "Epoch: 8/20... Step: 1060... Loss: 1.4795... Val Loss: 1.4845\n",
      "Epoch: 8/20... Step: 1070... Loss: 1.4964... Val Loss: 1.4856\n",
      "Epoch: 8/20... Step: 1080... Loss: 1.4915... Val Loss: 1.4829\n",
      "Epoch: 8/20... Step: 1090... Loss: 1.4781... Val Loss: 1.4809\n",
      "Epoch: 8/20... Step: 1100... Loss: 1.4603... Val Loss: 1.4795\n",
      "Epoch: 8/20... Step: 1110... Loss: 1.4706... Val Loss: 1.4738\n",
      "Epoch: 9/20... Step: 1120... Loss: 1.4724... Val Loss: 1.4688\n",
      "Epoch: 9/20... Step: 1130... Loss: 1.4786... Val Loss: 1.4702\n",
      "Epoch: 9/20... Step: 1140... Loss: 1.4769... Val Loss: 1.4626\n",
      "Epoch: 9/20... Step: 1150... Loss: 1.4872... Val Loss: 1.4574\n",
      "Epoch: 9/20... Step: 1160... Loss: 1.4434... Val Loss: 1.4568\n",
      "Epoch: 9/20... Step: 1170... Loss: 1.4621... Val Loss: 1.4557\n",
      "Epoch: 9/20... Step: 1180... Loss: 1.4497... Val Loss: 1.4576\n",
      "Epoch: 9/20... Step: 1190... Loss: 1.4889... Val Loss: 1.4504\n",
      "Epoch: 9/20... Step: 1200... Loss: 1.4336... Val Loss: 1.4501\n",
      "Epoch: 9/20... Step: 1210... Loss: 1.4449... Val Loss: 1.4551\n",
      "Epoch: 9/20... Step: 1220... Loss: 1.4445... Val Loss: 1.4464\n",
      "Epoch: 9/20... Step: 1230... Loss: 1.4303... Val Loss: 1.4403\n",
      "Epoch: 9/20... Step: 1240... Loss: 1.4261... Val Loss: 1.4381\n",
      "Epoch: 9/20... Step: 1250... Loss: 1.4425... Val Loss: 1.4369\n",
      "Epoch: 10/20... Step: 1260... Loss: 1.4384... Val Loss: 1.4365\n",
      "Epoch: 10/20... Step: 1270... Loss: 1.4391... Val Loss: 1.4354\n",
      "Epoch: 10/20... Step: 1280... Loss: 1.4528... Val Loss: 1.4293\n",
      "Epoch: 10/20... Step: 1290... Loss: 1.4303... Val Loss: 1.4315\n",
      "Epoch: 10/20... Step: 1300... Loss: 1.4220... Val Loss: 1.4254\n",
      "Epoch: 10/20... Step: 1310... Loss: 1.4416... Val Loss: 1.4303\n",
      "Epoch: 10/20... Step: 1320... Loss: 1.4011... Val Loss: 1.4244\n",
      "Epoch: 10/20... Step: 1330... Loss: 1.4082... Val Loss: 1.4227\n",
      "Epoch: 10/20... Step: 1340... Loss: 1.3925... Val Loss: 1.4205\n",
      "Epoch: 10/20... Step: 1350... Loss: 1.3930... Val Loss: 1.4190\n",
      "Epoch: 10/20... Step: 1360... Loss: 1.3958... Val Loss: 1.4198\n",
      "Epoch: 10/20... Step: 1370... Loss: 1.3866... Val Loss: 1.4164\n",
      "Epoch: 10/20... Step: 1380... Loss: 1.4206... Val Loss: 1.4120\n",
      "Epoch: 10/20... Step: 1390... Loss: 1.4356... Val Loss: 1.4124\n",
      "Epoch: 11/20... Step: 1400... Loss: 1.4369... Val Loss: 1.4083\n",
      "Epoch: 11/20... Step: 1410... Loss: 1.4493... Val Loss: 1.4109\n",
      "Epoch: 11/20... Step: 1420... Loss: 1.4282... Val Loss: 1.4049\n",
      "Epoch: 11/20... Step: 1430... Loss: 1.3979... Val Loss: 1.4053\n",
      "Epoch: 11/20... Step: 1440... Loss: 1.4325... Val Loss: 1.4031\n",
      "Epoch: 11/20... Step: 1450... Loss: 1.3536... Val Loss: 1.4032\n",
      "Epoch: 11/20... Step: 1460... Loss: 1.3778... Val Loss: 1.4050\n",
      "Epoch: 11/20... Step: 1470... Loss: 1.3721... Val Loss: 1.3998\n",
      "Epoch: 11/20... Step: 1480... Loss: 1.3907... Val Loss: 1.4025\n",
      "Epoch: 11/20... Step: 1490... Loss: 1.3878... Val Loss: 1.3976\n",
      "Epoch: 11/20... Step: 1500... Loss: 1.3638... Val Loss: 1.3952\n",
      "Epoch: 11/20... Step: 1510... Loss: 1.3544... Val Loss: 1.3928\n",
      "Epoch: 11/20... Step: 1520... Loss: 1.3805... Val Loss: 1.3899\n",
      "Epoch: 12/20... Step: 1530... Loss: 1.4428... Val Loss: 1.3897\n",
      "Epoch: 12/20... Step: 1540... Loss: 1.3878... Val Loss: 1.3898\n",
      "Epoch: 12/20... Step: 1550... Loss: 1.3953... Val Loss: 1.3854\n",
      "Epoch: 12/20... Step: 1560... Loss: 1.4029... Val Loss: 1.3836\n",
      "Epoch: 12/20... Step: 1570... Loss: 1.3440... Val Loss: 1.3842\n",
      "Epoch: 12/20... Step: 1580... Loss: 1.3334... Val Loss: 1.3864\n",
      "Epoch: 12/20... Step: 1590... Loss: 1.3223... Val Loss: 1.3834\n",
      "Epoch: 12/20... Step: 1600... Loss: 1.3603... Val Loss: 1.3833\n",
      "Epoch: 12/20... Step: 1610... Loss: 1.3467... Val Loss: 1.3823\n",
      "Epoch: 12/20... Step: 1620... Loss: 1.3469... Val Loss: 1.3751\n",
      "Epoch: 12/20... Step: 1630... Loss: 1.3720... Val Loss: 1.3786\n",
      "Epoch: 12/20... Step: 1640... Loss: 1.3503... Val Loss: 1.3816\n",
      "Epoch: 12/20... Step: 1650... Loss: 1.3227... Val Loss: 1.3739\n",
      "Epoch: 12/20... Step: 1660... Loss: 1.3820... Val Loss: 1.3721\n",
      "Epoch: 13/20... Step: 1670... Loss: 1.3433... Val Loss: 1.3690\n",
      "Epoch: 13/20... Step: 1680... Loss: 1.3624... Val Loss: 1.3674\n",
      "Epoch: 13/20... Step: 1690... Loss: 1.3373... Val Loss: 1.3692\n",
      "Epoch: 13/20... Step: 1700... Loss: 1.3452... Val Loss: 1.3714\n",
      "Epoch: 13/20... Step: 1710... Loss: 1.3157... Val Loss: 1.3677\n",
      "Epoch: 13/20... Step: 1720... Loss: 1.3319... Val Loss: 1.3653\n",
      "Epoch: 13/20... Step: 1730... Loss: 1.3651... Val Loss: 1.3662\n",
      "Epoch: 13/20... Step: 1740... Loss: 1.3339... Val Loss: 1.3655\n",
      "Epoch: 13/20... Step: 1750... Loss: 1.2956... Val Loss: 1.3650\n",
      "Epoch: 13/20... Step: 1760... Loss: 1.3201... Val Loss: 1.3594\n",
      "Epoch: 13/20... Step: 1770... Loss: 1.3499... Val Loss: 1.3615\n",
      "Epoch: 13/20... Step: 1780... Loss: 1.3259... Val Loss: 1.3595\n",
      "Epoch: 13/20... Step: 1790... Loss: 1.3229... Val Loss: 1.3556\n",
      "Epoch: 13/20... Step: 1800... Loss: 1.3312... Val Loss: 1.3556\n",
      "Epoch: 14/20... Step: 1810... Loss: 1.3379... Val Loss: 1.3525\n",
      "Epoch: 14/20... Step: 1820... Loss: 1.3220... Val Loss: 1.3517\n",
      "Epoch: 14/20... Step: 1830... Loss: 1.3355... Val Loss: 1.3550\n",
      "Epoch: 14/20... Step: 1840... Loss: 1.2897... Val Loss: 1.3570\n",
      "Epoch: 14/20... Step: 1850... Loss: 1.2769... Val Loss: 1.3523\n",
      "Epoch: 14/20... Step: 1860... Loss: 1.3377... Val Loss: 1.3544\n",
      "Epoch: 14/20... Step: 1870... Loss: 1.3357... Val Loss: 1.3499\n",
      "Epoch: 14/20... Step: 1880... Loss: 1.3311... Val Loss: 1.3493\n",
      "Epoch: 14/20... Step: 1890... Loss: 1.3394... Val Loss: 1.3557\n",
      "Epoch: 14/20... Step: 1900... Loss: 1.3240... Val Loss: 1.3479\n",
      "Epoch: 14/20... Step: 1910... Loss: 1.3219... Val Loss: 1.3492\n",
      "Epoch: 14/20... Step: 1920... Loss: 1.3203... Val Loss: 1.3481\n",
      "Epoch: 14/20... Step: 1930... Loss: 1.2888... Val Loss: 1.3441\n",
      "Epoch: 14/20... Step: 1940... Loss: 1.3455... Val Loss: 1.3461\n",
      "Epoch: 15/20... Step: 1950... Loss: 1.3156... Val Loss: 1.3457\n",
      "Epoch: 15/20... Step: 1960... Loss: 1.3142... Val Loss: 1.3407\n",
      "Epoch: 15/20... Step: 1970... Loss: 1.3082... Val Loss: 1.3412\n",
      "Epoch: 15/20... Step: 1980... Loss: 1.2932... Val Loss: 1.3441\n",
      "Epoch: 15/20... Step: 1990... Loss: 1.3020... Val Loss: 1.3400\n",
      "Epoch: 15/20... Step: 2000... Loss: 1.2799... Val Loss: 1.3353\n",
      "Epoch: 15/20... Step: 2010... Loss: 1.3042... Val Loss: 1.3380\n",
      "Epoch: 15/20... Step: 2020... Loss: 1.3212... Val Loss: 1.3413\n",
      "Epoch: 15/20... Step: 2030... Loss: 1.2854... Val Loss: 1.3435\n",
      "Epoch: 15/20... Step: 2040... Loss: 1.3065... Val Loss: 1.3365\n",
      "Epoch: 15/20... Step: 2050... Loss: 1.2905... Val Loss: 1.3379\n",
      "Epoch: 15/20... Step: 2060... Loss: 1.2954... Val Loss: 1.3320\n",
      "Epoch: 15/20... Step: 2070... Loss: 1.3149... Val Loss: 1.3305\n",
      "Epoch: 15/20... Step: 2080... Loss: 1.3061... Val Loss: 1.3348\n",
      "Epoch: 16/20... Step: 2090... Loss: 1.3040... Val Loss: 1.3292\n",
      "Epoch: 16/20... Step: 2100... Loss: 1.2892... Val Loss: 1.3276\n",
      "Epoch: 16/20... Step: 2110... Loss: 1.2845... Val Loss: 1.3332\n",
      "Epoch: 16/20... Step: 2120... Loss: 1.3026... Val Loss: 1.3347\n",
      "Epoch: 16/20... Step: 2130... Loss: 1.2666... Val Loss: 1.3295\n",
      "Epoch: 16/20... Step: 2140... Loss: 1.2788... Val Loss: 1.3268\n",
      "Epoch: 16/20... Step: 2150... Loss: 1.3136... Val Loss: 1.3296\n",
      "Epoch: 16/20... Step: 2160... Loss: 1.2912... Val Loss: 1.3295\n",
      "Epoch: 16/20... Step: 2170... Loss: 1.2839... Val Loss: 1.3307\n",
      "Epoch: 16/20... Step: 2180... Loss: 1.2814... Val Loss: 1.3301\n",
      "Epoch: 16/20... Step: 2190... Loss: 1.3042... Val Loss: 1.3301\n",
      "Epoch: 16/20... Step: 2200... Loss: 1.2767... Val Loss: 1.3252\n",
      "Epoch: 16/20... Step: 2210... Loss: 1.2416... Val Loss: 1.3255\n",
      "Epoch: 16/20... Step: 2220... Loss: 1.2889... Val Loss: 1.3255\n",
      "Epoch: 17/20... Step: 2230... Loss: 1.2710... Val Loss: 1.3195\n",
      "Epoch: 17/20... Step: 2240... Loss: 1.2750... Val Loss: 1.3213\n",
      "Epoch: 17/20... Step: 2250... Loss: 1.2601... Val Loss: 1.3265\n",
      "Epoch: 17/20... Step: 2260... Loss: 1.2688... Val Loss: 1.3235\n",
      "Epoch: 17/20... Step: 2270... Loss: 1.2764... Val Loss: 1.3228\n",
      "Epoch: 17/20... Step: 2280... Loss: 1.2773... Val Loss: 1.3166\n",
      "Epoch: 17/20... Step: 2290... Loss: 1.2831... Val Loss: 1.3158\n",
      "Epoch: 17/20... Step: 2300... Loss: 1.2451... Val Loss: 1.3170\n",
      "Epoch: 17/20... Step: 2310... Loss: 1.2740... Val Loss: 1.3168\n",
      "Epoch: 17/20... Step: 2320... Loss: 1.2631... Val Loss: 1.3192\n",
      "Epoch: 17/20... Step: 2330... Loss: 1.2516... Val Loss: 1.3206\n",
      "Epoch: 17/20... Step: 2340... Loss: 1.2722... Val Loss: 1.3107\n",
      "Epoch: 17/20... Step: 2350... Loss: 1.2733... Val Loss: 1.3121\n",
      "Epoch: 17/20... Step: 2360... Loss: 1.2887... Val Loss: 1.3143\n",
      "Epoch: 18/20... Step: 2370... Loss: 1.2543... Val Loss: 1.3134\n",
      "Epoch: 18/20... Step: 2380... Loss: 1.2655... Val Loss: 1.3092\n",
      "Epoch: 18/20... Step: 2390... Loss: 1.2602... Val Loss: 1.3175\n",
      "Epoch: 18/20... Step: 2400... Loss: 1.2868... Val Loss: 1.3146\n",
      "Epoch: 18/20... Step: 2410... Loss: 1.2730... Val Loss: 1.3125\n",
      "Epoch: 18/20... Step: 2420... Loss: 1.2592... Val Loss: 1.3079\n",
      "Epoch: 18/20... Step: 2430... Loss: 1.2726... Val Loss: 1.3077\n",
      "Epoch: 18/20... Step: 2440... Loss: 1.2528... Val Loss: 1.3109\n",
      "Epoch: 18/20... Step: 2450... Loss: 1.2450... Val Loss: 1.3084\n",
      "Epoch: 18/20... Step: 2460... Loss: 1.2620... Val Loss: 1.3106\n",
      "Epoch: 18/20... Step: 2470... Loss: 1.2593... Val Loss: 1.3097\n",
      "Epoch: 18/20... Step: 2480... Loss: 1.2507... Val Loss: 1.3074\n",
      "Epoch: 18/20... Step: 2490... Loss: 1.2466... Val Loss: 1.3053\n",
      "Epoch: 18/20... Step: 2500... Loss: 1.2529... Val Loss: 1.3100\n",
      "Epoch: 19/20... Step: 2510... Loss: 1.2537... Val Loss: 1.3039\n",
      "Epoch: 19/20... Step: 2520... Loss: 1.2662... Val Loss: 1.3032\n",
      "Epoch: 19/20... Step: 2530... Loss: 1.2634... Val Loss: 1.3093\n",
      "Epoch: 19/20... Step: 2540... Loss: 1.2787... Val Loss: 1.3062\n",
      "Epoch: 19/20... Step: 2550... Loss: 1.2382... Val Loss: 1.3063\n",
      "Epoch: 19/20... Step: 2560... Loss: 1.2464... Val Loss: 1.3028\n",
      "Epoch: 19/20... Step: 2570... Loss: 1.2418... Val Loss: 1.3041\n",
      "Epoch: 19/20... Step: 2580... Loss: 1.2744... Val Loss: 1.3056\n",
      "Epoch: 19/20... Step: 2590... Loss: 1.2327... Val Loss: 1.3049\n",
      "Epoch: 19/20... Step: 2600... Loss: 1.2320... Val Loss: 1.3122\n",
      "Epoch: 19/20... Step: 2610... Loss: 1.2422... Val Loss: 1.3046\n",
      "Epoch: 19/20... Step: 2620... Loss: 1.2244... Val Loss: 1.3062\n",
      "Epoch: 19/20... Step: 2630... Loss: 1.2310... Val Loss: 1.2979\n",
      "Epoch: 19/20... Step: 2640... Loss: 1.2490... Val Loss: 1.2977\n",
      "Epoch: 20/20... Step: 2650... Loss: 1.2511... Val Loss: 1.2955\n",
      "Epoch: 20/20... Step: 2660... Loss: 1.2555... Val Loss: 1.2992\n",
      "Epoch: 20/20... Step: 2670... Loss: 1.2600... Val Loss: 1.3023\n",
      "Epoch: 20/20... Step: 2680... Loss: 1.2585... Val Loss: 1.3088\n",
      "Epoch: 20/20... Step: 2690... Loss: 1.2432... Val Loss: 1.3028\n",
      "Epoch: 20/20... Step: 2700... Loss: 1.2464... Val Loss: 1.2949\n",
      "Epoch: 20/20... Step: 2710... Loss: 1.2190... Val Loss: 1.2964\n",
      "Epoch: 20/20... Step: 2720... Loss: 1.2173... Val Loss: 1.2989\n",
      "Epoch: 20/20... Step: 2730... Loss: 1.2110... Val Loss: 1.3021\n",
      "Epoch: 20/20... Step: 2740... Loss: 1.2142... Val Loss: 1.3053\n",
      "Epoch: 20/20... Step: 2750... Loss: 1.2227... Val Loss: 1.2996\n",
      "Epoch: 20/20... Step: 2760... Loss: 1.2182... Val Loss: 1.2962\n",
      "Epoch: 20/20... Step: 2770... Loss: 1.2518... Val Loss: 1.2937\n",
      "Epoch: 20/20... Step: 2780... Loss: 1.2799... Val Loss: 1.2965\n"
     ]
    }
   ],
   "source": [
    "batch_size = 128\n",
    "seq_length = 100\n",
    "n_epochs = 20# start small if you are just testing initial behavior\n",
    "\n",
    "# train the model\n",
    "train(net, encoded, epochs=n_epochs, batch_size=batch_size, seq_length=seq_length, lr=0.001, print_every=10)"
   ]
  },
  {
   "cell_type": "markdown",
   "metadata": {},
   "source": [
    "## Getting the best model\n",
    "\n",
    "To set your hyperparameters to get the best performance, you'll want to watch the training and validation losses. If your training loss is much lower than the validation loss, you're overfitting. Increase regularization (more dropout) or use a smaller network. If the training and validation losses are close, you're underfitting so you can increase the size of the network."
   ]
  },
  {
   "cell_type": "markdown",
   "metadata": {},
   "source": [
    "## Hyperparameters\n",
    "\n",
    "Here are the hyperparameters for the network.\n",
    "\n",
    "In defining the model:\n",
    "* `n_hidden` - The number of units in the hidden layers.\n",
    "* `n_layers` - Number of hidden LSTM layers to use.\n",
    "\n",
    "We assume that dropout probability and learning rate will be kept at the default, in this example.\n",
    "\n",
    "And in training:\n",
    "* `batch_size` - Number of sequences running through the network in one pass.\n",
    "* `seq_length` - Number of characters in the sequence the network is trained on. Larger is better typically, the network will learn more long range dependencies. But it takes longer to train. 100 is typically a good number here.\n",
    "* `lr` - Learning rate for training\n",
    "\n",
    "Here's some good advice from Andrej Karpathy on training the network. I'm going to copy it in here for your benefit, but also link to [where it originally came from](https://github.com/karpathy/char-rnn#tips-and-tricks).\n",
    "\n",
    "> ## Tips and Tricks\n",
    "\n",
    ">### Monitoring Validation Loss vs. Training Loss\n",
    ">If you're somewhat new to Machine Learning or Neural Networks it can take a bit of expertise to get good models. The most important quantity to keep track of is the difference between your training loss (printed during training) and the validation loss (printed once in a while when the RNN is run on the validation data (by default every 1000 iterations)). In particular:\n",
    "\n",
    "> - If your training loss is much lower than validation loss then this means the network might be **overfitting**. Solutions to this are to decrease your network size, or to increase dropout. For example you could try dropout of 0.5 and so on.\n",
    "> - If your training/validation loss are about equal then your model is **underfitting**. Increase the size of your model (either number of layers or the raw number of neurons per layer)\n",
    "\n",
    "> ### Approximate number of parameters\n",
    "\n",
    "> The two most important parameters that control the model are `n_hidden` and `n_layers`. I would advise that you always use `n_layers` of either 2/3. The `n_hidden` can be adjusted based on how much data you have. The two important quantities to keep track of here are:\n",
    "\n",
    "> - The number of parameters in your model. This is printed when you start training.\n",
    "> - The size of your dataset. 1MB file is approximately 1 million characters.\n",
    "\n",
    ">These two should be about the same order of magnitude. It's a little tricky to tell. Here are some examples:\n",
    "\n",
    "> - I have a 100MB dataset and I'm using the default parameter settings (which currently print 150K parameters). My data size is significantly larger (100 mil >> 0.15 mil), so I expect to heavily underfit. I am thinking I can comfortably afford to make `n_hidden` larger.\n",
    "> - I have a 10MB dataset and running a 10 million parameter model. I'm slightly nervous and I'm carefully monitoring my validation loss. If it's larger than my training loss then I may want to try to increase dropout a bit and see if that helps the validation loss.\n",
    "\n",
    "> ### Best models strategy\n",
    "\n",
    ">The winning strategy to obtaining very good models (if you have the compute time) is to always err on making the network larger (as large as you're willing to wait for it to compute) and then try different dropout values (between 0,1). Whatever model has the best validation performance (the loss, written in the checkpoint filename, low is good) is the one you should use in the end.\n",
    "\n",
    ">It is very common in deep learning to run many different models with many different hyperparameter settings, and in the end take whatever checkpoint gave the best validation performance.\n",
    "\n",
    ">By the way, the size of your training and validation splits are also parameters. Make sure you have a decent amount of data in your validation set or otherwise the validation performance will be noisy and not very informative."
   ]
  },
  {
   "cell_type": "markdown",
   "metadata": {},
   "source": [
    "## Checkpoint\n",
    "\n",
    "After training, we'll save the model so we can load it again later if we need too. Here I'm saving the parameters needed to create the same architecture, the hidden layer hyperparameters and the text characters."
   ]
  },
  {
   "cell_type": "code",
   "execution_count": 17,
   "metadata": {},
   "outputs": [],
   "source": [
    "# change the name, for saving multiple files\n",
    "model_name = 'rnn_x_epoch.net'\n",
    "\n",
    "checkpoint = {'n_hidden': net.n_hidden,\n",
    "              'n_layers': net.n_layers,\n",
    "              'state_dict': net.state_dict(),\n",
    "              'tokens': net.chars}\n",
    "\n",
    "with open(model_name, 'wb') as f:\n",
    "    torch.save(checkpoint, f)"
   ]
  },
  {
   "cell_type": "markdown",
   "metadata": {},
   "source": [
    "---\n",
    "## Making Predictions\n",
    "\n",
    "Now that the model is trained, we'll want to sample from it and make predictions about next characters! To sample, we pass in a character and have the network predict the next character. Then we take that character, pass it back in, and get another predicted character. Just keep doing this and you'll generate a bunch of text!\n",
    "\n",
    "### A note on the `predict`  function\n",
    "\n",
    "The output of our RNN is from a fully-connected layer and it outputs a **distribution of next-character scores**.\n",
    "\n",
    "> To actually get the next character, we apply a softmax function, which gives us a *probability* distribution that we can then sample to predict the next character.\n",
    "\n",
    "### Top K sampling\n",
    "\n",
    "Our predictions come from a categorical probability distribution over all the possible characters. We can make the sample text and make it more reasonable to handle (with less variables) by only considering some $K$ most probable characters. This will prevent the network from giving us completely absurd characters while allowing it to introduce some noise and randomness into the sampled text. Read more about [topk, here](https://pytorch.org/docs/stable/torch.html#torch.topk).\n"
   ]
  },
  {
   "cell_type": "code",
   "execution_count": 18,
   "metadata": {},
   "outputs": [],
   "source": [
    "def predict(net, char, h=None, top_k=None):\n",
    "        ''' Given a character, predict the next character.\n",
    "            Returns the predicted character and the hidden state.\n",
    "        '''\n",
    "        \n",
    "        # tensor inputs\n",
    "        x = np.array([[net.char2int[char]]])\n",
    "        x = one_hot_encode(x, len(net.chars))\n",
    "        inputs = torch.from_numpy(x)\n",
    "        \n",
    "        if(train_on_gpu):\n",
    "            inputs = inputs.cuda()\n",
    "        \n",
    "        # detach hidden state from history\n",
    "        h = tuple([each.data for each in h])\n",
    "        # get the output of the model\n",
    "        out, h = net(inputs, h)\n",
    "\n",
    "        # get the character probabilities\n",
    "        p = F.softmax(out, dim=1).data\n",
    "        if(train_on_gpu):\n",
    "            p = p.cpu() # move to cpu\n",
    "        \n",
    "        # get top characters\n",
    "        if top_k is None:\n",
    "            top_ch = np.arange(len(net.chars))\n",
    "        else:\n",
    "            p, top_ch = p.topk(top_k)\n",
    "            top_ch = top_ch.numpy().squeeze()\n",
    "        \n",
    "        # select the likely next character with some element of randomness\n",
    "        p = p.numpy().squeeze()\n",
    "        char = np.random.choice(top_ch, p=p/p.sum())\n",
    "        \n",
    "        # return the encoded value of the predicted char and the hidden state\n",
    "        return net.int2char[char], h"
   ]
  },
  {
   "cell_type": "markdown",
   "metadata": {},
   "source": [
    "### Priming and generating text \n",
    "\n",
    "Typically you'll want to prime the network so you can build up a hidden state. Otherwise the network will start out generating characters at random. In general the first bunch of characters will be a little rough since it hasn't built up a long history of characters to predict from."
   ]
  },
  {
   "cell_type": "code",
   "execution_count": 19,
   "metadata": {},
   "outputs": [],
   "source": [
    "def sample(net, size, prime='The', top_k=None):\n",
    "        \n",
    "    if(train_on_gpu):\n",
    "        net.cuda()\n",
    "    else:\n",
    "        net.cpu()\n",
    "    \n",
    "    net.eval() # eval mode\n",
    "    \n",
    "    # First off, run through the prime characters\n",
    "    chars = [ch for ch in prime]\n",
    "    h = net.init_hidden(1)\n",
    "    for ch in prime:\n",
    "        char, h = predict(net, ch, h, top_k=top_k)\n",
    "\n",
    "    chars.append(char)\n",
    "    \n",
    "    # Now pass in the previous character and get a new one\n",
    "    for ii in range(size):\n",
    "        char, h = predict(net, chars[-1], h, top_k=top_k)\n",
    "        chars.append(char)\n",
    "\n",
    "    return ''.join(chars)"
   ]
  },
  {
   "cell_type": "code",
   "execution_count": 20,
   "metadata": {},
   "outputs": [
    {
     "name": "stdout",
     "output_type": "stream",
     "text": [
      "Anna was a simple and successful as she had been such a solicant perceiving home\n",
      "water to him. And all\n",
      "surprassed it, and what took his woman, the same wife that the\n",
      "position was to be so likely at all things that they said had to be mouthed to the secire of\n",
      "the men at a long ago.\n",
      "\n",
      "\"What do you are not as an offer of happiness. I will be so life, but if I don't\n",
      "believe it, and I shall be discontinued the people,\" and told the conversation in the sofe of\n",
      "a\n",
      "little, and was strange, and as to his brother's face was simpliness.\n",
      "\n",
      "\"What is it?\" shist his head.\n",
      "\n",
      "\"I want to\n",
      "do, I am all she could not be so many peasant for me the state on her has been\n",
      "as it as a sunseated, to\n",
      "do their astraction of anything or my start.... I am good at\n",
      "him, and I am to do what I have seen me for my face. With, a care to the sense of\n",
      "thrigh, but you should be men in her mander, they were never ball for me to stand on, and she cannot his mercy all the presence, and thing with\n",
      "you! It\n",
      "all the princess and\n",
      "her, tried t\n"
     ]
    }
   ],
   "source": [
    "print(sample(net, 1000, prime='Anna', top_k=5))"
   ]
  },
  {
   "cell_type": "markdown",
   "metadata": {},
   "source": [
    "## Loading a checkpoint"
   ]
  },
  {
   "cell_type": "code",
   "execution_count": 21,
   "metadata": {},
   "outputs": [],
   "source": [
    "# Here we have loaded in a model that trained over 20 epochs `rnn_20_epoch.net`\n",
    "with open('rnn_x_epoch.net', 'rb') as f:\n",
    "    checkpoint = torch.load(f)\n",
    "    \n",
    "loaded = CharRNN(checkpoint['tokens'], n_hidden=checkpoint['n_hidden'], n_layers=checkpoint['n_layers'])\n",
    "loaded.load_state_dict(checkpoint['state_dict'])"
   ]
  },
  {
   "cell_type": "code",
   "execution_count": 22,
   "metadata": {},
   "outputs": [
    {
     "name": "stdout",
     "output_type": "stream",
     "text": [
      "And Levin said a few capable\n",
      "and down the crowds, she had ask the place, and with the countess then the carriage he was never seen that a common\n",
      "words of the friends in which he had not taken off his balls, told his step that\n",
      "would have to\n",
      "see more in a thild the first moment the same son. Have been such a conditions of husband, and had been being saying that he was not fighted himself. Then he\n",
      "say\n",
      "that, that there was a\n",
      "lift. And whos she wrote to the drawing row. That say that this\n",
      "which was\n",
      "at\n",
      "once able to gritter her.\n",
      "\n",
      "\"I have told her about it. Well, it's all my condition and well,\" she\n",
      "replained.\n",
      "\n",
      "\"Well, you's stupid. As to be touching her to the feeling of him,\" he said, as though so thought he had seet him to home. State tears\n",
      "with her head to take it with the colous of a footman,\n",
      "and that\n",
      "he could nobled, and took out anything that the choir still stopped out a few couree of all that had seen the\n",
      "misurked her, with a passion of this sont in the\n",
      "place and had been at that himsels in seemed to the\n",
      "dingres, happiness at the start, and all terest\n",
      "he could not have said to him. But the sound of her meanons, so as she came to her and went about in his head into seeing her\n",
      "state is sones. But to the door of the same princes and her house, and walked with his steps and the same society.\n",
      "\n",
      "\"A marriage, that's to say, but I don't say, it's so at the marshal of her assistance, and I suppose mayer, and the children assemthers on\n",
      "the conviscion to the same way of a children and stand, to think of the poop attention of\n",
      "his continual acrisalt,\"\n",
      "said Levin, while the marsh\n",
      "of the\n",
      "drawing room. She was seting the doorway at once, and he\n",
      "had not been\n",
      "so falling of an interrable\n",
      "and said, and and something there were a last sight, but as in set of cart off was\n",
      "a portrait of the painful\n",
      "straight of the fingers.\n",
      "\n",
      "She was not as in his sense.\n",
      "\n",
      "\"What should I am to told me to be much...\" she thought. \"These what he don't know what it's a pitious something thoughts a cannot\n",
      "people to say. I have \n"
     ]
    }
   ],
   "source": [
    "# Sample using a loaded model\n",
    "print(sample(loaded, 2000, top_k=5, prime=\"And Levin said\"))"
   ]
  },
  {
   "cell_type": "code",
   "execution_count": null,
   "metadata": {},
   "outputs": [],
   "source": []
  }
 ],
 "metadata": {
  "kernelspec": {
   "display_name": "Python 3",
   "language": "python",
   "name": "python3"
  },
  "language_info": {
   "codemirror_mode": {
    "name": "ipython",
    "version": 3
   },
   "file_extension": ".py",
   "mimetype": "text/x-python",
   "name": "python",
   "nbconvert_exporter": "python",
   "pygments_lexer": "ipython3",
   "version": "3.6.3"
  }
 },
 "nbformat": 4,
 "nbformat_minor": 2
}
